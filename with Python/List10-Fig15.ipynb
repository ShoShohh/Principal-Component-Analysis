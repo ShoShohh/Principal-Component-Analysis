{
 "cells": [
  {
   "cell_type": "code",
   "execution_count": 1,
   "metadata": {},
   "outputs": [
    {
     "name": "stdout",
     "output_type": "stream",
     "text": [
      "  Unnamed: 0   100m  Long.jump  Shot.put  High.jump   400m  110m.hurdle  \\\n",
      "0     SEBRLE  11.04       7.58     14.83       2.07  49.81        14.69   \n",
      "1       CLAY  10.76       7.40     14.26       1.86  49.37        14.05   \n",
      "2     KARPOV  11.02       7.30     14.77       2.04  48.37        14.09   \n",
      "3    BERNARD  11.02       7.23     14.25       1.92  48.93        14.99   \n",
      "4     YURKOV  11.34       7.09     15.19       2.10  50.42        15.31   \n",
      "\n",
      "   Discus  Pole.vault  Javeline  1500m  Rank  Points Competition  \n",
      "0   43.75        5.02     63.19  291.7     1    8217    Decastar  \n",
      "1   50.72        4.92     60.15  301.5     2    8122    Decastar  \n",
      "2   48.95        4.92     50.31  300.2     3    8099    Decastar  \n",
      "3   40.87        5.32     62.77  280.1     4    8067    Decastar  \n",
      "4   46.26        4.72     63.44  276.4     5    8036    Decastar  \n"
     ]
    }
   ],
   "source": [
    "import pandas as pd\n",
    "decathlon = pd.read_csv('decathlon.csv')\n",
    "# Rのdecathlonデータとは違いますが，似たようなデータを見つけたのでcsvファイルをダウンロードしてみてください．\n",
    "# https://www.kaggle.com/datasets/drisskaouthar/decathlon?resource=download\n",
    "\n",
    "print(decathlon.head())"
   ]
  }
 ],
 "metadata": {
  "kernelspec": {
   "display_name": "Python 3",
   "language": "python",
   "name": "python3"
  },
  "language_info": {
   "codemirror_mode": {
    "name": "ipython",
    "version": 3
   },
   "file_extension": ".py",
   "mimetype": "text/x-python",
   "name": "python",
   "nbconvert_exporter": "python",
   "pygments_lexer": "ipython3",
   "version": "3.10.9"
  },
  "orig_nbformat": 4,
  "vscode": {
   "interpreter": {
    "hash": "33b37d7c4c59611d3d13d215eed0518e98a93a22f55f3cbbe63de93d92104f6a"
   }
  }
 },
 "nbformat": 4,
 "nbformat_minor": 2
}
