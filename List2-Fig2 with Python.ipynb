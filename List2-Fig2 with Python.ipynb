{
 "cells": [
  {
   "cell_type": "code",
   "execution_count": 137,
   "metadata": {},
   "outputs": [
    {
     "name": "stdout",
     "output_type": "stream",
     "text": [
      "[[13.055200000000005, 4.1739999999999995, 8.962000000000005, 2.7332], [4.1739999999999995, 4.825000000000001, 4.050000000000002, 2.019], [8.962000000000005, 4.050000000000002, 10.820000000000006, 3.582], [2.7332, 2.019, 3.582, 1.9161999999999992]]\n"
     ]
    }
   ],
   "source": [
    "import numpy as np\n",
    "import pandas as pd\n",
    "\n",
    "def crossproduct(x):\n",
    "    n,p = x.shape\n",
    "    center = np.average(x,0)\n",
    "    x = x - center\n",
    "    return x.T@x\n",
    "\n",
    "iris = pd.read_csv('https://raw.githubusercontent.com/mwaskom/seaborn-data/master/iris.csv')\n",
    "x = iris.loc[50:99, \"sepal_length\":\"petal_width\"]\n",
    "\n",
    "A = crossproduct(x)\n",
    "list_A = A.to_numpy().tolist()\n",
    "print(list_A)"
   ]
  },
  {
   "cell_type": "code",
   "execution_count": 138,
   "metadata": {},
   "outputs": [
    {
     "name": "stdout",
     "output_type": "stream",
     "text": [
      "[[0.2664326530612246, 0.08518367346938774, 0.18289795918367358, 0.0557795918367347], [0.08518367346938774, 0.09846938775510206, 0.08265306122448983, 0.041204081632653065], [0.18289795918367358, 0.08265306122448983, 0.22081632653061237, 0.07310204081632653], [0.0557795918367347, 0.041204081632653065, 0.07310204081632653, 0.039106122448979576]]\n"
     ]
    }
   ],
   "source": [
    "S = A /(x.shape[0] - 1)\n",
    "list_S = S.to_numpy().tolist()\n",
    "print(list_S)"
   ]
  },
  {
   "cell_type": "code",
   "execution_count": 139,
   "metadata": {},
   "outputs": [
    {
     "name": "stdout",
     "output_type": "stream",
     "text": [
      "[[0.26643265 0.08518367 0.18289796 0.05577959]\n",
      " [0.08518367 0.09846939 0.08265306 0.04120408]\n",
      " [0.18289796 0.08265306 0.22081633 0.07310204]\n",
      " [0.05577959 0.04120408 0.07310204 0.03910612]]\n"
     ]
    }
   ],
   "source": [
    "cov_x = np.cov(x, rowvar=0, bias=0)\n",
    "print(cov_x)"
   ]
  },
  {
   "cell_type": "code",
   "execution_count": 140,
   "metadata": {},
   "outputs": [],
   "source": [
    "def eig_sort(X):\n",
    "    eig_value, eig_vector = np.linalg.eig(X)\n",
    "    index = eig_value.argsort()[::-1]\n",
    "    eig_value_sort = eig_value[index]\n",
    "    eig_vector_sort = eig_vector.T[index]\n",
    "    return (eig_value_sort, eig_vector_sort.T)"
   ]
  },
  {
   "cell_type": "code",
   "execution_count": 141,
   "metadata": {},
   "outputs": [
    {
     "data": {
      "text/plain": [
       "(array([0.48787394, 0.0723841 , 0.05477609, 0.00979036]),\n",
       " array([[ 0.68672376,  0.66908906, -0.26508336,  0.1022796 ],\n",
       "        [ 0.30534703, -0.56746531, -0.72961786, -0.22891939],\n",
       "        [ 0.62366312, -0.34332698,  0.62716496, -0.31596679],\n",
       "        [ 0.21498369, -0.33530513,  0.06366081,  0.91504087]]))"
      ]
     },
     "execution_count": 141,
     "metadata": {},
     "output_type": "execute_result"
    }
   ],
   "source": [
    "eig_sort(S)\n"
   ]
  },
  {
   "cell_type": "code",
   "execution_count": 142,
   "metadata": {},
   "outputs": [
    {
     "data": {
      "text/plain": [
       "(array([ 2.87940902e+00,  7.99051396e-01,  3.21539584e-01, -5.06651832e-17]),\n",
       " array([[ 0.52387658,  0.00342952, -0.8076627 ,  0.27059662],\n",
       "        [ 0.32541998, -0.92412055,  0.19863762, -0.02541945],\n",
       "        [ 0.57341934,  0.24771336,  0.11416639, -0.77252468],\n",
       "        [ 0.53930087,  0.29090813,  0.54331399,  0.57387886]]))"
      ]
     },
     "execution_count": 142,
     "metadata": {},
     "output_type": "execute_result"
    }
   ],
   "source": [
    "cor_S = S.corr()\n",
    "eig_sort(cor_S)"
   ]
  }
 ],
 "metadata": {
  "kernelspec": {
   "display_name": "Python 3",
   "language": "python",
   "name": "python3"
  },
  "language_info": {
   "codemirror_mode": {
    "name": "ipython",
    "version": 3
   },
   "file_extension": ".py",
   "mimetype": "text/x-python",
   "name": "python",
   "nbconvert_exporter": "python",
   "pygments_lexer": "ipython3",
   "version": "3.10.9"
  },
  "orig_nbformat": 4,
  "vscode": {
   "interpreter": {
    "hash": "33b37d7c4c59611d3d13d215eed0518e98a93a22f55f3cbbe63de93d92104f6a"
   }
  }
 },
 "nbformat": 4,
 "nbformat_minor": 2
}
