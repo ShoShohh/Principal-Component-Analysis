{
 "cells": [
  {
   "cell_type": "code",
   "execution_count": 75,
   "metadata": {},
   "outputs": [
    {
     "name": "stdout",
     "output_type": "stream",
     "text": [
      "[[13.0552  4.174   8.962   2.7332]\n",
      " [ 4.174   4.825   4.05    2.019 ]\n",
      " [ 8.962   4.05   10.82    3.582 ]\n",
      " [ 2.7332  2.019   3.582   1.9162]]\n"
     ]
    }
   ],
   "source": [
    "import numpy as np\n",
    "import pandas as pd\n",
    "\n",
    "def crossproduct(x):\n",
    "    n,p = x.shape\n",
    "    center = np.average(x,0)\n",
    "    x = x - center\n",
    "    return x.T@x\n",
    "\n",
    "iris = pd.read_csv('https://raw.githubusercontent.com/mwaskom/seaborn-data/master/iris.csv')\n",
    "x = iris.loc[50:99, \"sepal_length\":\"petal_width\"]\n",
    "\n",
    "A = crossproduct(x).to_numpy()\n",
    "print(A)"
   ]
  },
  {
   "cell_type": "code",
   "execution_count": 76,
   "metadata": {},
   "outputs": [
    {
     "name": "stdout",
     "output_type": "stream",
     "text": [
      "[[0.26643265 0.08518367 0.18289796 0.05577959]\n",
      " [0.08518367 0.09846939 0.08265306 0.04120408]\n",
      " [0.18289796 0.08265306 0.22081633 0.07310204]\n",
      " [0.05577959 0.04120408 0.07310204 0.03910612]]\n"
     ]
    }
   ],
   "source": [
    "S = A / (x.shape[0] - 1)\n",
    "print(S)"
   ]
  },
  {
   "cell_type": "code",
   "execution_count": 77,
   "metadata": {},
   "outputs": [
    {
     "name": "stdout",
     "output_type": "stream",
     "text": [
      "[[0.26643265 0.08518367 0.18289796 0.05577959]\n",
      " [0.08518367 0.09846939 0.08265306 0.04120408]\n",
      " [0.18289796 0.08265306 0.22081633 0.07310204]\n",
      " [0.05577959 0.04120408 0.07310204 0.03910612]]\n"
     ]
    }
   ],
   "source": [
    "cov_x = np.cov(x, rowvar=0, bias=0)\n",
    "print(cov_x)"
   ]
  },
  {
   "cell_type": "code",
   "execution_count": 78,
   "metadata": {},
   "outputs": [],
   "source": [
    "def eig_sort(X):\n",
    "    eig_value, eig_vector = np.linalg.eig(X)\n",
    "    index = eig_value.argsort()[::-1]\n",
    "    eig_value_sort = eig_value[index]\n",
    "    eig_vector_sort = eig_vector.T[index]\n",
    "    return (eig_value_sort, eig_vector_sort.T)"
   ]
  },
  {
   "cell_type": "code",
   "execution_count": 79,
   "metadata": {},
   "outputs": [
    {
     "data": {
      "text/plain": [
       "(array([0.48787394, 0.0723841 , 0.05477609, 0.00979036]),\n",
       " array([[ 0.68672376,  0.66908906, -0.26508336,  0.1022796 ],\n",
       "        [ 0.30534703, -0.56746531, -0.72961786, -0.22891939],\n",
       "        [ 0.62366312, -0.34332698,  0.62716496, -0.31596679],\n",
       "        [ 0.21498369, -0.33530513,  0.06366081,  0.91504087]]))"
      ]
     },
     "execution_count": 79,
     "metadata": {},
     "output_type": "execute_result"
    }
   ],
   "source": [
    "eig_sort(S)\n"
   ]
  },
  {
   "cell_type": "code",
   "execution_count": 80,
   "metadata": {},
   "outputs": [
    {
     "data": {
      "text/plain": [
       "(array([2.87940902e+00, 7.99051396e-01, 3.21539584e-01, 1.35169661e-17]),\n",
       " array([[ 0.52387658,  0.00342952, -0.8076627 ,  0.27059662],\n",
       "        [ 0.32541998, -0.92412055,  0.19863762, -0.02541945],\n",
       "        [ 0.57341934,  0.24771336,  0.11416639, -0.77252468],\n",
       "        [ 0.53930087,  0.29090813,  0.54331399,  0.57387886]]))"
      ]
     },
     "execution_count": 80,
     "metadata": {},
     "output_type": "execute_result"
    }
   ],
   "source": [
    "cor_S = pd.DataFrame(S).corr()\n",
    "eig_sort(cor_S)"
   ]
  },
  {
   "cell_type": "code",
   "execution_count": 81,
   "metadata": {},
   "outputs": [
    {
     "data": {
      "text/plain": [
       "(array([2.87940902e+00, 7.99051396e-01, 3.21539584e-01, 2.87402566e-17]),\n",
       " array([[ 0.52387658,  0.00342952, -0.8076627 ,  0.27059662],\n",
       "        [ 0.32541998, -0.92412055,  0.19863762, -0.02541945],\n",
       "        [ 0.57341934,  0.24771336,  0.11416639, -0.77252468],\n",
       "        [ 0.53930087,  0.29090813,  0.54331399,  0.57387886]]))"
      ]
     },
     "execution_count": 81,
     "metadata": {},
     "output_type": "execute_result"
    }
   ],
   "source": [
    "corr_S = np.corrcoef(S)\n",
    "eig_sort(corr_S)"
   ]
  }
 ],
 "metadata": {
  "kernelspec": {
   "display_name": "base",
   "language": "python",
   "name": "python3"
  },
  "language_info": {
   "codemirror_mode": {
    "name": "ipython",
    "version": 3
   },
   "file_extension": ".py",
   "mimetype": "text/x-python",
   "name": "python",
   "nbconvert_exporter": "python",
   "pygments_lexer": "ipython3",
   "version": "3.9.13"
  },
  "orig_nbformat": 4,
  "vscode": {
   "interpreter": {
    "hash": "101479d87ba5df5b33b68a5de1ace73ef6edb8390fcb34a6ad364c4b0e688e19"
   }
  }
 },
 "nbformat": 4,
 "nbformat_minor": 2
}
