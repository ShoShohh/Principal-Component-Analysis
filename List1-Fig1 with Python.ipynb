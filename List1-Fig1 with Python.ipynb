{
 "cells": [
  {
   "cell_type": "code",
   "execution_count": 59,
   "metadata": {},
   "outputs": [],
   "source": [
    "import numpy as np\n",
    "import pandas as pd"
   ]
  },
  {
   "cell_type": "code",
   "execution_count": 60,
   "metadata": {},
   "outputs": [],
   "source": [
    "def crossproduct(x):\n",
    "    n,p = x.shape\n",
    "    center = np.average(x,0)\n",
    "    x = x - center\n",
    "    return x.T@x"
   ]
  },
  {
   "cell_type": "code",
   "execution_count": 61,
   "metadata": {},
   "outputs": [
    {
     "name": "stdout",
     "output_type": "stream",
     "text": [
      "[[13.055200000000005, 4.1739999999999995, 8.962000000000005, 2.7332], [4.1739999999999995, 4.825000000000001, 4.050000000000002, 2.019], [8.962000000000005, 4.050000000000002, 10.820000000000006, 3.582], [2.7332, 2.019, 3.582, 1.9161999999999992]]\n"
     ]
    }
   ],
   "source": [
    "iris = pd.read_csv('https://raw.githubusercontent.com/mwaskom/seaborn-data/master/iris.csv')\n",
    "x = iris.loc[50:99, \"sepal_length\":\"petal_width\"]\n",
    "\n",
    "A = crossproduct(x)\n",
    "list_A = A.to_numpy().tolist()\n",
    "print(list_A)"
   ]
  }
 ],
 "metadata": {
  "kernelspec": {
   "display_name": "Python 3",
   "language": "python",
   "name": "python3"
  },
  "language_info": {
   "codemirror_mode": {
    "name": "ipython",
    "version": 3
   },
   "file_extension": ".py",
   "mimetype": "text/x-python",
   "name": "python",
   "nbconvert_exporter": "python",
   "pygments_lexer": "ipython3",
   "version": "3.10.9"
  },
  "orig_nbformat": 4,
  "vscode": {
   "interpreter": {
    "hash": "33b37d7c4c59611d3d13d215eed0518e98a93a22f55f3cbbe63de93d92104f6a"
   }
  }
 },
 "nbformat": 4,
 "nbformat_minor": 2
}
